{
 "cells": [
  {
   "cell_type": "markdown",
   "id": "df15c91c",
   "metadata": {},
   "source": [
    "# Recommender Systems 2023/24\n",
    "\n",
    "### Practice - Hyperparameter optimization with Optuna\n",
    "\n",
    "### Hyperparameter optimization is essential to achieve the best recommendation quality!!"
   ]
  },
  {
   "cell_type": "markdown",
   "id": "a1671106",
   "metadata": {},
   "source": [
    "## How does it work\n",
    "* Split the data in training, validation and test. Ensure that the distribution of the three sets is similar (e.g., the validation data you use should be split with the same approach used for the test data; if you know the test data contains cold items or users, ensure the validation data does too...)\n",
    "* Choose a recommender model, identify its hyperparameters and choose a value range and distribution for each.\n",
    "* Select a hyperparameter configuration and fit your model using the training data. Evaluate it using the validation data.\n",
    "* Repeat the previous step by exploring many possible hyperparameter configurations. Several exploration strategies are possible.\n",
    "* Select the hyperparameter configuration with the best recommendation quality on the validation data. Use that configuration to fit the model on the union of training and validation data. Evaluate the final model on the test data and report that result (or submit to the course challenge).\n",
    "\n",
    "Using directly or indirectly any information on the composition of the test data at any stage of the training or optimization process will result in *information leakage* and cause you to overestimate the quality of your model.\n",
    "\n",
    "\n",
    "\n",
    "## Hyperparameter optimization strategies\n",
    "\n",
    "### Grid-search\n",
    "For each hyperparameter define a list of possible values, then explore *all* possible combinations. For example, in a KNN using tversky similarity you could choose these values:\n",
    "* number of neighbors: [10, 50, 100, 150, 200, 250]\n",
    "* shrink term: [0, 10, 20, 50, 100]\n",
    "* alpha: [0.1, 0.3, 0.5, 0.7, 0.9, 1.1, 1.3, 1.5]\n",
    "* beta: [0.1, 0.3, 0.5, 0.7, 0.9, 1.1, 1.3, 1.5]\n",
    "\n",
    "You end up with *1920* possible hyperparameter configurations. Furthermore, you cannot easily fine-tune. Say that you found the optimal number of neighbors is 200, but in that area of the search space you were using a step of 50. What if there is an even better result at 215? You have to define a *new* hyperparameter range around the optimal one you found and use a smaller step, e.g., [180, 190, 200, 210, 220] and so on. \n",
    "\n",
    "Overall, grid-search is very sensitive to the range and distribution you choose, very rigid, and often unpractically slow due to how the number of cases grows combinatorially. It has been known for more than 20 years that it is generally a bad idea.\n",
    "\n",
    "### Random-search\n",
    "In a random search you define the range and distribution of possible values, and then you pick at random from it each hyperparameter configuration you explore.\n",
    "For example, in a KNN using tversky similarity you could choose these values:\n",
    "* number of neighbors: uniform random from 10 to 500\n",
    "* shrink term: uniform random from 0 to 500\n",
    "* alpha: uniform random from 0.1 to 1.5\n",
    "* beta: uniform random from 0.1 to 1.5\n",
    "\n",
    "It is very parallelizable and effective (definitely better than Grid-search).\n",
    "\n",
    "\n",
    "### Bayesian-search\n",
    "More advanced strategy that uses a gaussian process to try to model the interdependencies between hyperparameters based on how they affect the result. It contains a part of random search where the search space is explored, then a second part that uses the gaussian process to choose the next hyperparameter configuration. It combines exploration with exploitation. \n",
    "\n",
    "Bayesian-search is less parallelizable (the gaussian process is sequential) but has a good exploration-exploitation tradeoff. It is the strategy used in our research activity.\n",
    "\n",
    "\n",
    "### Other strategies\n",
    "There is no shortage of hyperparameter optimization strategies, for example the Tree-Structured Parzen Estimator with Optuna (in this notebook), as well as techniques that use previous optimization runs to attempt transfer learning between models and datasets. All those are beyond the scope of the course.\n",
    "\n",
    "\n",
    "\n",
    "### In the course repository you will find a BayesianSearch object in the HyperparameterTuning folder. That is a simple wrapper of another library and its purpose is to provide a very simple way to tune some of the most common hyperparameters. \n",
    "\n",
    "\n",
    "\n",
    "\n",
    "## Hyperparameter sensitivity\n",
    "\n",
    "One of the most important problems you encounter when doing hyperparameter tuning is how to select the range and distribution of the hyperparameters. There is no universal rule and some of those decisions are based on experience. Generally the suggestions we can give you are:\n",
    "* Keep the search space on the larger side, better have more room to manouver than less.\n",
    "* Hyperparameters like the number of neighbors, the shrink term, the number of latent dimensions of matrix factorization models etc. work well with a uniform random distribution\n",
    "* Hyperparameters like the learning rate and l1 l2 regularizations work better with a log-uniform distribution as the training tends to be affected by the orders of magnitude rather than the absolute values. You need to be able to explore maybe from 10^-9 to 10^-3, but is less important to choose the specific value.\n",
    "\n",
    "### In the course repository you will find a script called run_hyperparameter_search that contains a list of commonly used hyperparameters with the corresponding range and distribution.\n",
    "\n",
    "### Hint: If you see that the optimization yelds a hyperparameter that has a value at either end of the range (min or max) this may indicate that in that scenarion you need to expand the search space.\n",
    "\n",
    "\n",
    "\n",
    "## Early-stopping\n",
    "\n",
    "A special hyperparameter is the number of epochs you should train a machine learning model for.\n",
    "It is possible to put this number as a hyperparameter, but that is not a super-effective strategy. A common strategy is *early-stopping*. It works as follows:\n",
    "* Select a maximum number of epochs, say 500\n",
    "* Train the model for a certain number of epochs, say 5\n",
    "* Evaluate the recommendation quality of the model on the validation data. Create a clone of the model.\n",
    "* Continue training and evaluate the model periodically. Every time you find a better recommendation quality update the model clone, which will then represent the \"best\" model you have.\n",
    "* If the recommendation quality does not improve for a certain number of consecutive validation steps, say 5, stop the training. If you reach the maximum number of epochs, stop the training.\n",
    "* Use the \"best\" model clone to generate the recommendations on the validation data.\n",
    "* When you train the model on the union of training and validation data, use the optimal number of epochs selected by the early-stopping at the previous step.\n",
    "\n",
    "Usually early-stopping allows to save a lot of computational time and fine-tune the optimal number of epochs, unless the validation step takes a very large amount of time. In those cases, it can be better to either use early-stopping on the algorithm loss function (which is however a different problem then recommendation and does not guarantee you that the best absolute loss will correspond to the model with the best recommendation quality) or just select the number of epochs as any other hyperparameter.\n"
   ]
  },
  {
   "cell_type": "code",
   "execution_count": 1,
   "id": "ed77104e",
   "metadata": {},
   "outputs": [
    {
     "name": "stdout",
     "output_type": "stream",
     "text": [
      "Movielens1M: Verifying data consistency...\n",
      "Movielens1M: Verifying data consistency... Passed!\n",
      "DataReader: current dataset is: Movielens1M\n",
      "\tNumber of items: 3883\n",
      "\tNumber of users: 6040\n",
      "\tNumber of interactions in URM_all: 1000209\n",
      "\tValue range in URM_all: 1.00-5.00\n",
      "\tInteraction density: 4.26E-02\n",
      "\tInteractions per user:\n",
      "\t\t Min: 2.00E+01\n",
      "\t\t Avg: 1.66E+02\n",
      "\t\t Max: 2.31E+03\n",
      "\tInteractions per item:\n",
      "\t\t Min: 0.00E+00\n",
      "\t\t Avg: 2.58E+02\n",
      "\t\t Max: 3.43E+03\n",
      "\tGini Index: 0.53\n",
      "\n",
      "\tICM name: ICM_genres, Value range: 1.00 / 1.00, Num features: 18, feature occurrences: 6408, density 9.17E-02\n",
      "\tICM name: ICM_year, Value range: 1.92E+03 / 2.00E+03, Num features: 1, feature occurrences: 3883, density 1.00E+00\n",
      "\n",
      "\n",
      "\tUCM name: UCM_all, Value range: 1.00 / 1.00, Num features: 3469, feature occurrences: 24160, density 1.15E-03\n"
     ]
    }
   ],
   "source": [
    "from Data_manager.split_functions.split_train_validation_random_holdout import split_train_in_two_percentage_global_sample\n",
    "from Data_manager.Movielens.Movielens1MReader import Movielens1MReader\n",
    "\n",
    "data_reader = Movielens1MReader()\n",
    "data_loaded = data_reader.load_data()\n",
    "\n",
    "URM_all = data_loaded.get_URM_all()\n",
    "ICM_all = data_loaded.get_ICM_from_name(\"ICM_genres\")"
   ]
  },
  {
   "cell_type": "markdown",
   "id": "2f991540",
   "metadata": {},
   "source": [
    "### How do we perform hyperparameter optimization?\n",
    "* Split the data in three *disjoint* sets: training, validation and testing data\n",
    "* Define a set of hyperparameters with the range and distribution\n",
    "* Explore hyperparameter space and select those with the best recommendation quality on the *validation* data (including the number of epochs for ML algorithms)\n",
    "* Given the best hyperparameters, fit the model again using the union of training and validation data.\n",
    "* Evaluate this last model on the testing data."
   ]
  },
  {
   "cell_type": "markdown",
   "id": "1dda399e",
   "metadata": {},
   "source": [
    "### Step 1: Split the data and create the evaluator objects"
   ]
  },
  {
   "cell_type": "code",
   "execution_count": 2,
   "id": "8b8f0249",
   "metadata": {},
   "outputs": [
    {
     "name": "stdout",
     "output_type": "stream",
     "text": [
      "Warning: 3 (0.05 %) of 6040 users have no sampled items\n",
      "Warning: 16 (0.26 %) of 6040 users have no sampled items\n",
      "EvaluatorHoldout: Ignoring 16 ( 0.3%) Users that have less than 1 test interactions\n",
      "EvaluatorHoldout: Ignoring 3 ( 0.0%) Users that have less than 1 test interactions\n"
     ]
    }
   ],
   "source": [
    "from Evaluation.Evaluator import EvaluatorHoldout\n",
    "\n",
    "URM_train_validation, URM_test = split_train_in_two_percentage_global_sample(URM_all, train_percentage = 0.8)\n",
    "URM_train, URM_validation = split_train_in_two_percentage_global_sample(URM_train_validation, train_percentage = 0.8)\n",
    "\n",
    "evaluator_validation = EvaluatorHoldout(URM_validation, cutoff_list=[10])\n",
    "evaluator_test = EvaluatorHoldout(URM_test, cutoff_list=[10])"
   ]
  },
  {
   "cell_type": "markdown",
   "id": "377e77d9",
   "metadata": {},
   "source": [
    "### Step 2: Define the objective function that will be run by the optimizer\n",
    "\n",
    "The obective function should:\n",
    "* Use the optuna trial instance to acquire the hyperparameter values required\n",
    "* Fit the model\n",
    "* Evaluate on the validation and return the result of a desired metric"
   ]
  },
  {
   "cell_type": "code",
   "execution_count": 3,
   "id": "7b8ffbac",
   "metadata": {},
   "outputs": [],
   "source": [
    "import optuna\n",
    "import pandas as pd\n",
    "from Recommenders.KNN.ItemKNNCFRecommender import ItemKNNCFRecommender\n",
    "\n",
    "def objective_function(optuna_trial):\n",
    "    \n",
    "    recommender_instance = ItemKNNCFRecommender(URM_train)\n",
    "    recommender_instance.fit(topK = optuna_trial.suggest_int(\"topK\", 5, 1000),\n",
    "                             shrink = optuna_trial.suggest_int(\"shrink\", 0, 1000),\n",
    "                             similarity = \"cosine\",\n",
    "                             normalize = optuna_trial.suggest_categorical(\"normalize\", [True, False])\n",
    "                            )\n",
    "    \n",
    "    result_df, _ = evaluator_validation.evaluateRecommender(recommender_instance)\n",
    "    \n",
    "    return result_df.loc[10][\"MAP\"]"
   ]
  },
  {
   "cell_type": "markdown",
   "id": "b93fb496",
   "metadata": {},
   "source": [
    "### Step 3: Create an object/function that will be called after every call of the objective function to log the results in a dataframe for easier readability"
   ]
  },
  {
   "cell_type": "code",
   "execution_count": 4,
   "id": "af3895dc",
   "metadata": {},
   "outputs": [],
   "source": [
    "class SaveResults(object):\n",
    "    \n",
    "    def __init__(self):\n",
    "        self.results_df = pd.DataFrame()\n",
    "    \n",
    "    def __call__(self, optuna_study, optuna_trial):\n",
    "        hyperparam_dict = optuna_trial.params.copy()\n",
    "        hyperparam_dict[\"result\"] = optuna_trial.values[0]\n",
    "        \n",
    "        self.results_df = self.results_df.append(hyperparam_dict, ignore_index=True)"
   ]
  },
  {
   "cell_type": "markdown",
   "id": "f2012bef",
   "metadata": {},
   "source": [
    "### Step 4: Create an optuna Study and run"
   ]
  },
  {
   "cell_type": "code",
   "execution_count": 5,
   "id": "795150ca",
   "metadata": {},
   "outputs": [
    {
     "name": "stderr",
     "output_type": "stream",
     "text": [
      "[I 2023-11-22 22:24:05,453] A new study created in memory with name: no-name-40ec47b9-9c95-4bea-ae89-86d4d5a7ab50\n"
     ]
    },
    {
     "name": "stdout",
     "output_type": "stream",
     "text": [
      "ItemKNNCFRecommender: URM Detected 230 ( 5.9%) items with no interactions.\n",
      "Similarity column 3883 (100.0%), 4174.47 column/sec. Elapsed time 0.93 sec\n",
      "EvaluatorHoldout: Processed 6024 (100.0%) in 5.82 sec. Users per second: 1035\n"
     ]
    },
    {
     "name": "stderr",
     "output_type": "stream",
     "text": [
      "[I 2023-11-22 22:24:12,354] Trial 0 finished with value: 0.07160745905267855 and parameters: {'topK': 431, 'shrink': 582, 'normalize': False}. Best is trial 0 with value: 0.07160745905267855.\n"
     ]
    },
    {
     "name": "stdout",
     "output_type": "stream",
     "text": [
      "ItemKNNCFRecommender: URM Detected 230 ( 5.9%) items with no interactions.\n",
      "Similarity column 3883 (100.0%), 3755.17 column/sec. Elapsed time 1.03 sec\n",
      "EvaluatorHoldout: Processed 6024 (100.0%) in 5.76 sec. Users per second: 1045\n"
     ]
    },
    {
     "name": "stderr",
     "output_type": "stream",
     "text": [
      "[I 2023-11-22 22:24:19,274] Trial 1 finished with value: 0.07204786673412213 and parameters: {'topK': 372, 'shrink': 28, 'normalize': False}. Best is trial 1 with value: 0.07204786673412213.\n"
     ]
    },
    {
     "name": "stdout",
     "output_type": "stream",
     "text": [
      "ItemKNNCFRecommender: URM Detected 230 ( 5.9%) items with no interactions.\n",
      "Similarity column 3883 (100.0%), 4052.44 column/sec. Elapsed time 0.96 sec\n",
      "EvaluatorHoldout: Processed 6024 (100.0%) in 5.62 sec. Users per second: 1072\n"
     ]
    },
    {
     "name": "stderr",
     "output_type": "stream",
     "text": [
      "[I 2023-11-22 22:24:25,973] Trial 2 finished with value: 0.07099528473407989 and parameters: {'topK': 478, 'shrink': 26, 'normalize': False}. Best is trial 1 with value: 0.07204786673412213.\n"
     ]
    },
    {
     "name": "stdout",
     "output_type": "stream",
     "text": [
      "ItemKNNCFRecommender: URM Detected 230 ( 5.9%) items with no interactions.\n",
      "Similarity column 3883 (100.0%), 4601.66 column/sec. Elapsed time 0.84 sec\n",
      "EvaluatorHoldout: Processed 6024 (100.0%) in 6.22 sec. Users per second: 969\n"
     ]
    },
    {
     "name": "stderr",
     "output_type": "stream",
     "text": [
      "[I 2023-11-22 22:24:33,215] Trial 3 finished with value: 0.09818792949893541 and parameters: {'topK': 875, 'shrink': 597, 'normalize': True}. Best is trial 3 with value: 0.09818792949893541.\n"
     ]
    },
    {
     "name": "stdout",
     "output_type": "stream",
     "text": [
      "ItemKNNCFRecommender: URM Detected 230 ( 5.9%) items with no interactions.\n",
      "Similarity column 3883 (100.0%), 4603.63 column/sec. Elapsed time 0.84 sec\n",
      "EvaluatorHoldout: Processed 6024 (100.0%) in 4.86 sec. Users per second: 1241\n"
     ]
    },
    {
     "name": "stderr",
     "output_type": "stream",
     "text": [
      "[I 2023-11-22 22:24:39,019] Trial 4 finished with value: 0.07210546702080602 and parameters: {'topK': 366, 'shrink': 306, 'normalize': False}. Best is trial 3 with value: 0.09818792949893541.\n"
     ]
    },
    {
     "name": "stdout",
     "output_type": "stream",
     "text": [
      "ItemKNNCFRecommender: URM Detected 230 ( 5.9%) items with no interactions.\n",
      "Similarity column 3883 (100.0%), 4781.91 column/sec. Elapsed time 0.81 sec\n",
      "EvaluatorHoldout: Processed 6024 (100.0%) in 5.77 sec. Users per second: 1044\n"
     ]
    },
    {
     "name": "stderr",
     "output_type": "stream",
     "text": [
      "[I 2023-11-22 22:24:45,761] Trial 5 finished with value: 0.06986371972427771 and parameters: {'topK': 739, 'shrink': 585, 'normalize': False}. Best is trial 3 with value: 0.09818792949893541.\n"
     ]
    },
    {
     "name": "stdout",
     "output_type": "stream",
     "text": [
      "ItemKNNCFRecommender: URM Detected 230 ( 5.9%) items with no interactions.\n",
      "Similarity column 3883 (100.0%), 4812.19 column/sec. Elapsed time 0.81 sec\n",
      "EvaluatorHoldout: Processed 6024 (100.0%) in 5.86 sec. Users per second: 1028\n"
     ]
    },
    {
     "name": "stderr",
     "output_type": "stream",
     "text": [
      "[I 2023-11-22 22:24:52,605] Trial 6 finished with value: 0.09804362576150451 and parameters: {'topK': 852, 'shrink': 913, 'normalize': True}. Best is trial 3 with value: 0.09818792949893541.\n"
     ]
    },
    {
     "name": "stdout",
     "output_type": "stream",
     "text": [
      "ItemKNNCFRecommender: URM Detected 230 ( 5.9%) items with no interactions.\n",
      "Similarity column 3883 (100.0%), 4896.62 column/sec. Elapsed time 0.79 sec\n",
      "EvaluatorHoldout: Processed 6024 (100.0%) in 3.59 sec. Users per second: 1677\n"
     ]
    },
    {
     "name": "stderr",
     "output_type": "stream",
     "text": [
      "[I 2023-11-22 22:24:57,058] Trial 7 finished with value: 0.07484855551339645 and parameters: {'topK': 23, 'shrink': 869, 'normalize': False}. Best is trial 3 with value: 0.09818792949893541.\n"
     ]
    },
    {
     "name": "stdout",
     "output_type": "stream",
     "text": [
      "ItemKNNCFRecommender: URM Detected 230 ( 5.9%) items with no interactions.\n",
      "Similarity column 3883 (100.0%), 4858.90 column/sec. Elapsed time 0.80 sec\n",
      "EvaluatorHoldout: Processed 6024 (100.0%) in 4.10 sec. Users per second: 1471\n"
     ]
    },
    {
     "name": "stderr",
     "output_type": "stream",
     "text": [
      "[I 2023-11-22 22:25:02,034] Trial 8 finished with value: 0.10446944365395547 and parameters: {'topK': 142, 'shrink': 489, 'normalize': True}. Best is trial 8 with value: 0.10446944365395547.\n"
     ]
    },
    {
     "name": "stdout",
     "output_type": "stream",
     "text": [
      "ItemKNNCFRecommender: URM Detected 230 ( 5.9%) items with no interactions.\n",
      "Similarity column 3883 (100.0%), 4751.41 column/sec. Elapsed time 0.82 sec\n",
      "EvaluatorHoldout: Processed 6024 (100.0%) in 4.87 sec. Users per second: 1236\n"
     ]
    },
    {
     "name": "stderr",
     "output_type": "stream",
     "text": [
      "[I 2023-11-22 22:25:07,830] Trial 9 finished with value: 0.07245227423638793 and parameters: {'topK': 343, 'shrink': 828, 'normalize': False}. Best is trial 8 with value: 0.10446944365395547.\n"
     ]
    }
   ],
   "source": [
    "optuna_study = optuna.create_study(direction=\"maximize\")\n",
    "        \n",
    "save_results = SaveResults()\n",
    "        \n",
    "optuna_study.optimize(objective_function,\n",
    "                      callbacks=[save_results],\n",
    "                      n_trials = 10)"
   ]
  },
  {
   "cell_type": "markdown",
   "id": "435547b1",
   "metadata": {},
   "source": [
    "### Step 3: Given the best hyperparameters, train on the union of URM_train and validation, to evaluate on test"
   ]
  },
  {
   "cell_type": "code",
   "execution_count": 6,
   "id": "9353bd3d",
   "metadata": {},
   "outputs": [
    {
     "name": "stdout",
     "output_type": "stream",
     "text": [
      "Study statistics: \n",
      "  Number of finished trials:  10\n",
      "  Number of pruned trials:  0\n",
      "  Number of complete trials:  10\n",
      "Best trial:\n",
      "  Value Validation:  0.10446944365395547\n"
     ]
    }
   ],
   "source": [
    "pruned_trials = [t for t in optuna_study.trials if t.state == optuna.trial.TrialState.PRUNED]\n",
    "complete_trials = [t for t in optuna_study.trials if t.state == optuna.trial.TrialState.COMPLETE]\n",
    "\n",
    "print(\"Study statistics: \")\n",
    "print(\"  Number of finished trials: \", len(optuna_study.trials))\n",
    "print(\"  Number of pruned trials: \", len(pruned_trials))\n",
    "print(\"  Number of complete trials: \", len(complete_trials))\n",
    "\n",
    "print(\"Best trial:\")\n",
    "print(\"  Value Validation: \", optuna_study.best_trial.value)\n"
   ]
  },
  {
   "cell_type": "code",
   "execution_count": 7,
   "id": "b233a624",
   "metadata": {},
   "outputs": [
    {
     "data": {
      "text/plain": [
       "FrozenTrial(number=8, state=TrialState.COMPLETE, values=[0.10446944365395547], datetime_start=datetime.datetime(2023, 11, 22, 22, 24, 57, 63501), datetime_complete=datetime.datetime(2023, 11, 22, 22, 25, 2, 33826), params={'topK': 142, 'shrink': 489, 'normalize': True}, user_attrs={}, system_attrs={}, intermediate_values={}, distributions={'topK': IntDistribution(high=1000, log=False, low=5, step=1), 'shrink': IntDistribution(high=1000, log=False, low=0, step=1), 'normalize': CategoricalDistribution(choices=(True, False))}, trial_id=8, value=None)"
      ]
     },
     "execution_count": 7,
     "metadata": {},
     "output_type": "execute_result"
    }
   ],
   "source": [
    "optuna_study.best_trial"
   ]
  },
  {
   "cell_type": "code",
   "execution_count": 8,
   "id": "60ee5883",
   "metadata": {},
   "outputs": [
    {
     "data": {
      "text/plain": [
       "{'topK': 142, 'shrink': 489, 'normalize': True}"
      ]
     },
     "execution_count": 8,
     "metadata": {},
     "output_type": "execute_result"
    }
   ],
   "source": [
    "optuna_study.best_trial.params"
   ]
  },
  {
   "cell_type": "code",
   "execution_count": 9,
   "id": "2b335fd3",
   "metadata": {},
   "outputs": [
    {
     "data": {
      "text/html": [
       "<div>\n",
       "<style scoped>\n",
       "    .dataframe tbody tr th:only-of-type {\n",
       "        vertical-align: middle;\n",
       "    }\n",
       "\n",
       "    .dataframe tbody tr th {\n",
       "        vertical-align: top;\n",
       "    }\n",
       "\n",
       "    .dataframe thead th {\n",
       "        text-align: right;\n",
       "    }\n",
       "</style>\n",
       "<table border=\"1\" class=\"dataframe\">\n",
       "  <thead>\n",
       "    <tr style=\"text-align: right;\">\n",
       "      <th></th>\n",
       "      <th>normalize</th>\n",
       "      <th>result</th>\n",
       "      <th>shrink</th>\n",
       "      <th>topK</th>\n",
       "    </tr>\n",
       "  </thead>\n",
       "  <tbody>\n",
       "    <tr>\n",
       "      <th>0</th>\n",
       "      <td>0.0</td>\n",
       "      <td>0.071607</td>\n",
       "      <td>582.0</td>\n",
       "      <td>431.0</td>\n",
       "    </tr>\n",
       "    <tr>\n",
       "      <th>1</th>\n",
       "      <td>0.0</td>\n",
       "      <td>0.072048</td>\n",
       "      <td>28.0</td>\n",
       "      <td>372.0</td>\n",
       "    </tr>\n",
       "    <tr>\n",
       "      <th>2</th>\n",
       "      <td>0.0</td>\n",
       "      <td>0.070995</td>\n",
       "      <td>26.0</td>\n",
       "      <td>478.0</td>\n",
       "    </tr>\n",
       "    <tr>\n",
       "      <th>3</th>\n",
       "      <td>1.0</td>\n",
       "      <td>0.098188</td>\n",
       "      <td>597.0</td>\n",
       "      <td>875.0</td>\n",
       "    </tr>\n",
       "    <tr>\n",
       "      <th>4</th>\n",
       "      <td>0.0</td>\n",
       "      <td>0.072105</td>\n",
       "      <td>306.0</td>\n",
       "      <td>366.0</td>\n",
       "    </tr>\n",
       "    <tr>\n",
       "      <th>5</th>\n",
       "      <td>0.0</td>\n",
       "      <td>0.069864</td>\n",
       "      <td>585.0</td>\n",
       "      <td>739.0</td>\n",
       "    </tr>\n",
       "    <tr>\n",
       "      <th>6</th>\n",
       "      <td>1.0</td>\n",
       "      <td>0.098044</td>\n",
       "      <td>913.0</td>\n",
       "      <td>852.0</td>\n",
       "    </tr>\n",
       "    <tr>\n",
       "      <th>7</th>\n",
       "      <td>0.0</td>\n",
       "      <td>0.074849</td>\n",
       "      <td>869.0</td>\n",
       "      <td>23.0</td>\n",
       "    </tr>\n",
       "    <tr>\n",
       "      <th>8</th>\n",
       "      <td>1.0</td>\n",
       "      <td>0.104469</td>\n",
       "      <td>489.0</td>\n",
       "      <td>142.0</td>\n",
       "    </tr>\n",
       "    <tr>\n",
       "      <th>9</th>\n",
       "      <td>0.0</td>\n",
       "      <td>0.072452</td>\n",
       "      <td>828.0</td>\n",
       "      <td>343.0</td>\n",
       "    </tr>\n",
       "  </tbody>\n",
       "</table>\n",
       "</div>"
      ],
      "text/plain": [
       "   normalize    result  shrink   topK\n",
       "0        0.0  0.071607   582.0  431.0\n",
       "1        0.0  0.072048    28.0  372.0\n",
       "2        0.0  0.070995    26.0  478.0\n",
       "3        1.0  0.098188   597.0  875.0\n",
       "4        0.0  0.072105   306.0  366.0\n",
       "5        0.0  0.069864   585.0  739.0\n",
       "6        1.0  0.098044   913.0  852.0\n",
       "7        0.0  0.074849   869.0   23.0\n",
       "8        1.0  0.104469   489.0  142.0\n",
       "9        0.0  0.072452   828.0  343.0"
      ]
     },
     "execution_count": 9,
     "metadata": {},
     "output_type": "execute_result"
    }
   ],
   "source": [
    "save_results.results_df"
   ]
  },
  {
   "cell_type": "code",
   "execution_count": 10,
   "id": "83e37d44",
   "metadata": {},
   "outputs": [
    {
     "name": "stdout",
     "output_type": "stream",
     "text": [
      "ItemKNNCFRecommender: URM Detected 209 ( 5.4%) items with no interactions.\n",
      "Similarity column 3883 (100.0%), 3501.20 column/sec. Elapsed time 1.11 sec\n",
      "EvaluatorHoldout: Processed 6037 (100.0%) in 4.39 sec. Users per second: 1374\n"
     ]
    },
    {
     "data": {
      "text/html": [
       "<div>\n",
       "<style scoped>\n",
       "    .dataframe tbody tr th:only-of-type {\n",
       "        vertical-align: middle;\n",
       "    }\n",
       "\n",
       "    .dataframe tbody tr th {\n",
       "        vertical-align: top;\n",
       "    }\n",
       "\n",
       "    .dataframe thead th {\n",
       "        text-align: right;\n",
       "    }\n",
       "</style>\n",
       "<table border=\"1\" class=\"dataframe\">\n",
       "  <thead>\n",
       "    <tr style=\"text-align: right;\">\n",
       "      <th></th>\n",
       "      <th>PRECISION</th>\n",
       "      <th>PRECISION_RECALL_MIN_DEN</th>\n",
       "      <th>RECALL</th>\n",
       "      <th>MAP</th>\n",
       "      <th>MAP_MIN_DEN</th>\n",
       "      <th>MRR</th>\n",
       "      <th>NDCG</th>\n",
       "      <th>F1</th>\n",
       "      <th>HIT_RATE</th>\n",
       "      <th>ARHR_ALL_HITS</th>\n",
       "      <th>...</th>\n",
       "      <th>COVERAGE_USER</th>\n",
       "      <th>COVERAGE_USER_HIT</th>\n",
       "      <th>USERS_IN_GT</th>\n",
       "      <th>DIVERSITY_GINI</th>\n",
       "      <th>SHANNON_ENTROPY</th>\n",
       "      <th>RATIO_DIVERSITY_HERFINDAHL</th>\n",
       "      <th>RATIO_DIVERSITY_GINI</th>\n",
       "      <th>RATIO_SHANNON_ENTROPY</th>\n",
       "      <th>RATIO_AVERAGE_POPULARITY</th>\n",
       "      <th>RATIO_NOVELTY</th>\n",
       "    </tr>\n",
       "    <tr>\n",
       "      <th>cutoff</th>\n",
       "      <th></th>\n",
       "      <th></th>\n",
       "      <th></th>\n",
       "      <th></th>\n",
       "      <th></th>\n",
       "      <th></th>\n",
       "      <th></th>\n",
       "      <th></th>\n",
       "      <th></th>\n",
       "      <th></th>\n",
       "      <th></th>\n",
       "      <th></th>\n",
       "      <th></th>\n",
       "      <th></th>\n",
       "      <th></th>\n",
       "      <th></th>\n",
       "      <th></th>\n",
       "      <th></th>\n",
       "      <th></th>\n",
       "      <th></th>\n",
       "      <th></th>\n",
       "    </tr>\n",
       "  </thead>\n",
       "  <tbody>\n",
       "    <tr>\n",
       "      <th>10</th>\n",
       "      <td>0.332135</td>\n",
       "      <td>0.352922</td>\n",
       "      <td>0.143949</td>\n",
       "      <td>0.238688</td>\n",
       "      <td>0.248658</td>\n",
       "      <td>0.603195</td>\n",
       "      <td>0.297081</td>\n",
       "      <td>0.200849</td>\n",
       "      <td>0.875435</td>\n",
       "      <td>1.136934</td>\n",
       "      <td>...</td>\n",
       "      <td>0.999503</td>\n",
       "      <td>0.875</td>\n",
       "      <td>0.999503</td>\n",
       "      <td>0.057569</td>\n",
       "      <td>8.161886</td>\n",
       "      <td>0.994893</td>\n",
       "      <td>0.164759</td>\n",
       "      <td>0.754885</td>\n",
       "      <td>1.716156</td>\n",
       "      <td>0.065786</td>\n",
       "    </tr>\n",
       "  </tbody>\n",
       "</table>\n",
       "<p>1 rows × 27 columns</p>\n",
       "</div>"
      ],
      "text/plain": [
       "       PRECISION PRECISION_RECALL_MIN_DEN    RECALL       MAP MAP_MIN_DEN  \\\n",
       "cutoff                                                                      \n",
       "10      0.332135                 0.352922  0.143949  0.238688    0.248658   \n",
       "\n",
       "             MRR      NDCG        F1  HIT_RATE ARHR_ALL_HITS  ...  \\\n",
       "cutoff                                                        ...   \n",
       "10      0.603195  0.297081  0.200849  0.875435      1.136934  ...   \n",
       "\n",
       "       COVERAGE_USER COVERAGE_USER_HIT USERS_IN_GT DIVERSITY_GINI  \\\n",
       "cutoff                                                              \n",
       "10          0.999503             0.875    0.999503       0.057569   \n",
       "\n",
       "       SHANNON_ENTROPY RATIO_DIVERSITY_HERFINDAHL RATIO_DIVERSITY_GINI  \\\n",
       "cutoff                                                                   \n",
       "10            8.161886                   0.994893             0.164759   \n",
       "\n",
       "       RATIO_SHANNON_ENTROPY RATIO_AVERAGE_POPULARITY RATIO_NOVELTY  \n",
       "cutoff                                                               \n",
       "10                  0.754885                 1.716156      0.065786  \n",
       "\n",
       "[1 rows x 27 columns]"
      ]
     },
     "execution_count": 10,
     "metadata": {},
     "output_type": "execute_result"
    }
   ],
   "source": [
    "recommender_instance = ItemKNNCFRecommender(URM_train + URM_validation)\n",
    "recommender_instance.fit(**optuna_study.best_trial.params)\n",
    "\n",
    "result_df, _ = evaluator_test.evaluateRecommender(recommender_instance)\n",
    "result_df"
   ]
  },
  {
   "cell_type": "markdown",
   "id": "8303b316",
   "metadata": {},
   "source": [
    "### Optuna supports various tools such as a database to store the results which can be used for nice visualizations, try them!\n",
    "\n",
    "\n",
    "Optuna also supports conditional hyperparameters, which may be required only based on another hyperparameter value. In the following function several similarity heuristics are optimized."
   ]
  },
  {
   "cell_type": "code",
   "execution_count": 11,
   "id": "1553cba4",
   "metadata": {},
   "outputs": [],
   "source": [
    "def objective_function_KNN_similarities(optuna_trial):\n",
    "    \n",
    "    recommender_instance = ItemKNNCFRecommender(URM_train)\n",
    "    similarity = optuna_trial.suggest_categorical(\"similarity\", ['cosine', 'dice', 'jaccard', 'asymmetric', 'tversky', 'euclidean'])\n",
    "    \n",
    "    full_hyperp = {\"similarity\": similarity,\n",
    "                   \"topK\": optuna_trial.suggest_int(\"topK\", 5, 1000),\n",
    "                   \"shrink\": optuna_trial.suggest_int(\"shrink\", 0, 1000),\n",
    "                  }\n",
    "    \n",
    "    if similarity == \"asymmetric\":\n",
    "        full_hyperp[\"asymmetric_alpha\"] = optuna_trial.suggest_float(\"asymmetric_alpha\", 0, 2, log=False)\n",
    "        full_hyperp[\"normalize\"] = True     \n",
    "\n",
    "    elif similarity == \"tversky\":\n",
    "        full_hyperp[\"tversky_alpha\"] = optuna_trial.suggest_float(\"tversky_alpha\", 0, 2, log=False)\n",
    "        full_hyperp[\"tversky_beta\"] = optuna_trial.suggest_float(\"tversky_beta\", 0, 2, log=False)\n",
    "        full_hyperp[\"normalize\"] = True \n",
    "\n",
    "    elif similarity == \"euclidean\":\n",
    "        full_hyperp[\"normalize_avg_row\"] = optuna_trial.suggest_categorical(\"normalize_avg_row\", [True, False])\n",
    "        full_hyperp[\"similarity_from_distance_mode\"] = optuna_trial.suggest_categorical(\"similarity_from_distance_mode\", [\"lin\", \"log\", \"exp\"])\n",
    "        full_hyperp[\"normalize\"] = optuna_trial.suggest_categorical(\"normalize\", [True, False])\n",
    "        \n",
    "    \n",
    "    recommender_instance.fit(**full_hyperp)\n",
    "    \n",
    "    result_df, _ = evaluator_validation.evaluateRecommender(recommender_instance)\n",
    "    \n",
    "    return result_df.loc[10][\"MAP\"]"
   ]
  },
  {
   "cell_type": "code",
   "execution_count": 12,
   "id": "c7b96610",
   "metadata": {},
   "outputs": [
    {
     "name": "stderr",
     "output_type": "stream",
     "text": [
      "[I 2023-11-22 22:25:13,558] A new study created in memory with name: no-name-63611310-da5b-4cb9-a1c4-a160b0dfd3f7\n"
     ]
    },
    {
     "name": "stdout",
     "output_type": "stream",
     "text": [
      "ItemKNNCFRecommender: URM Detected 230 ( 5.9%) items with no interactions.\n",
      "Similarity column 3883 (100.0%), 4890.52 column/sec. Elapsed time 0.79 sec\n",
      "EvaluatorHoldout: Processed 6024 (100.0%) in 3.31 sec. Users per second: 1818\n"
     ]
    },
    {
     "name": "stderr",
     "output_type": "stream",
     "text": [
      "[I 2023-11-22 22:25:17,771] Trial 0 finished with value: 0.09518016558106211 and parameters: {'similarity': 'tversky', 'topK': 22, 'shrink': 200, 'tversky_alpha': 1.110833799073885, 'tversky_beta': 1.6059773085428688}. Best is trial 0 with value: 0.09518016558106211.\n"
     ]
    },
    {
     "name": "stdout",
     "output_type": "stream",
     "text": [
      "ItemKNNCFRecommender: URM Detected 230 ( 5.9%) items with no interactions.\n",
      "Similarity column 3883 (100.0%), 4503.62 column/sec. Elapsed time 0.86 sec\n",
      "EvaluatorHoldout: Processed 6024 (100.0%) in 6.09 sec. Users per second: 988\n"
     ]
    },
    {
     "name": "stderr",
     "output_type": "stream",
     "text": [
      "[I 2023-11-22 22:25:24,933] Trial 1 finished with value: 0.09481197564240376 and parameters: {'similarity': 'dice', 'topK': 761, 'shrink': 203}. Best is trial 0 with value: 0.09518016558106211.\n"
     ]
    },
    {
     "name": "stdout",
     "output_type": "stream",
     "text": [
      "ItemKNNCFRecommender: URM Detected 230 ( 5.9%) items with no interactions.\n",
      "Similarity column 3883 (100.0%), 4166.03 column/sec. Elapsed time 0.93 sec\n",
      "EvaluatorHoldout: Processed 6024 (100.0%) in 5.75 sec. Users per second: 1048\n"
     ]
    },
    {
     "name": "stderr",
     "output_type": "stream",
     "text": [
      "[I 2023-11-22 22:25:31,814] Trial 2 finished with value: 0.09307549563650164 and parameters: {'similarity': 'tversky', 'topK': 589, 'shrink': 474, 'tversky_alpha': 0.7055294001664003, 'tversky_beta': 1.1046547106671623}. Best is trial 0 with value: 0.09518016558106211.\n"
     ]
    },
    {
     "name": "stdout",
     "output_type": "stream",
     "text": [
      "ItemKNNCFRecommender: URM Detected 230 ( 5.9%) items with no interactions.\n"
     ]
    },
    {
     "name": "stderr",
     "output_type": "stream",
     "text": [
      "E:\\PyCharmWorkspace\\RecSys_Course_AT_PoliMi\\Recommenders\\Similarity\\Compute_Similarity_Euclidean.py:167: RuntimeWarning: overflow encountered in exp\n",
      "  item_similarity = 1/(np.exp(item_distance) + self.shrink + 1e-9)\n"
     ]
    },
    {
     "name": "stdout",
     "output_type": "stream",
     "text": [
      "Similarity column 3883 (100.0%), 1240.67 column/sec. Elapsed time 3.13 sec\n",
      "EvaluatorHoldout: Processed 6024 (100.0%) in 3.73 sec. Users per second: 1614\n"
     ]
    },
    {
     "name": "stderr",
     "output_type": "stream",
     "text": [
      "[I 2023-11-22 22:25:38,728] Trial 3 finished with value: 0.08062787869685295 and parameters: {'similarity': 'euclidean', 'topK': 115, 'shrink': 789, 'normalize_avg_row': False, 'similarity_from_distance_mode': 'exp', 'normalize': True}. Best is trial 0 with value: 0.09518016558106211.\n"
     ]
    },
    {
     "name": "stdout",
     "output_type": "stream",
     "text": [
      "ItemKNNCFRecommender: URM Detected 230 ( 5.9%) items with no interactions.\n",
      "Similarity column 3883 (100.0%), 4306.40 column/sec. Elapsed time 0.90 sec\n",
      "EvaluatorHoldout: Processed 6024 (100.0%) in 5.82 sec. Users per second: 1035\n"
     ]
    },
    {
     "name": "stderr",
     "output_type": "stream",
     "text": [
      "[I 2023-11-22 22:25:45,676] Trial 4 finished with value: 0.0783178463395102 and parameters: {'similarity': 'tversky', 'topK': 815, 'shrink': 717, 'tversky_alpha': 0.124237137867107, 'tversky_beta': 1.10397433841753}. Best is trial 0 with value: 0.09518016558106211.\n"
     ]
    },
    {
     "name": "stdout",
     "output_type": "stream",
     "text": [
      "ItemKNNCFRecommender: URM Detected 230 ( 5.9%) items with no interactions.\n",
      "Similarity column 3883 (100.0%), 3639.97 column/sec. Elapsed time 1.07 sec\n",
      "EvaluatorHoldout: Processed 6024 (100.0%) in 6.13 sec. Users per second: 983\n"
     ]
    },
    {
     "name": "stderr",
     "output_type": "stream",
     "text": [
      "[I 2023-11-22 22:25:53,127] Trial 5 finished with value: 0.092917397868842 and parameters: {'similarity': 'dice', 'topK': 963, 'shrink': 410}. Best is trial 0 with value: 0.09518016558106211.\n"
     ]
    },
    {
     "name": "stdout",
     "output_type": "stream",
     "text": [
      "ItemKNNCFRecommender: URM Detected 230 ( 5.9%) items with no interactions.\n",
      "Similarity column 3883 (100.0%), 4891.65 column/sec. Elapsed time 0.79 sec\n",
      "EvaluatorHoldout: Processed 6024 (100.0%) in 6.41 sec. Users per second: 940\n"
     ]
    },
    {
     "name": "stderr",
     "output_type": "stream",
     "text": [
      "[I 2023-11-22 22:26:00,512] Trial 6 finished with value: 0.09821019493454777 and parameters: {'similarity': 'cosine', 'topK': 957, 'shrink': 485}. Best is trial 6 with value: 0.09821019493454777.\n"
     ]
    },
    {
     "name": "stdout",
     "output_type": "stream",
     "text": [
      "ItemKNNCFRecommender: URM Detected 230 ( 5.9%) items with no interactions.\n",
      "Similarity column 3883 (100.0%), 494.75 column/sec. Elapsed time 7.85 sec\n",
      "EvaluatorHoldout: Processed 6024 (100.0%) in 4.44 sec. Users per second: 1356\n"
     ]
    },
    {
     "name": "stderr",
     "output_type": "stream",
     "text": [
      "[I 2023-11-22 22:26:12,941] Trial 7 finished with value: 0.05769171330550828 and parameters: {'similarity': 'euclidean', 'topK': 933, 'shrink': 816, 'normalize_avg_row': True, 'similarity_from_distance_mode': 'exp', 'normalize': True}. Best is trial 6 with value: 0.09821019493454777.\n"
     ]
    },
    {
     "name": "stdout",
     "output_type": "stream",
     "text": [
      "ItemKNNCFRecommender: URM Detected 230 ( 5.9%) items with no interactions.\n",
      "Similarity column 3883 (100.0%), 4850.95 column/sec. Elapsed time 0.80 sec\n",
      "EvaluatorHoldout: Processed 6024 (100.0%) in 3.73 sec. Users per second: 1613\n"
     ]
    },
    {
     "name": "stderr",
     "output_type": "stream",
     "text": [
      "[I 2023-11-22 22:26:17,549] Trial 8 finished with value: 0.1028505883871917 and parameters: {'similarity': 'cosine', 'topK': 104, 'shrink': 170}. Best is trial 8 with value: 0.1028505883871917.\n"
     ]
    },
    {
     "name": "stdout",
     "output_type": "stream",
     "text": [
      "ItemKNNCFRecommender: URM Detected 230 ( 5.9%) items with no interactions.\n",
      "Similarity column 3883 (100.0%), 4953.89 column/sec. Elapsed time 0.78 sec\n",
      "EvaluatorHoldout: Processed 6024 (100.0%) in 4.04 sec. Users per second: 1493\n"
     ]
    },
    {
     "name": "stderr",
     "output_type": "stream",
     "text": [
      "[I 2023-11-22 22:26:22,448] Trial 9 finished with value: 0.10452612170366156 and parameters: {'similarity': 'cosine', 'topK': 213, 'shrink': 179}. Best is trial 9 with value: 0.10452612170366156.\n"
     ]
    }
   ],
   "source": [
    "optuna_study = optuna.create_study(direction=\"maximize\")\n",
    "        \n",
    "save_results = SaveResults()\n",
    "        \n",
    "optuna_study.optimize(objective_function_KNN_similarities,\n",
    "                      callbacks=[save_results],\n",
    "                      n_trials = 10)"
   ]
  },
  {
   "cell_type": "code",
   "execution_count": 13,
   "id": "9e4aa9e8",
   "metadata": {},
   "outputs": [
    {
     "data": {
      "text/html": [
       "<div>\n",
       "<style scoped>\n",
       "    .dataframe tbody tr th:only-of-type {\n",
       "        vertical-align: middle;\n",
       "    }\n",
       "\n",
       "    .dataframe tbody tr th {\n",
       "        vertical-align: top;\n",
       "    }\n",
       "\n",
       "    .dataframe thead th {\n",
       "        text-align: right;\n",
       "    }\n",
       "</style>\n",
       "<table border=\"1\" class=\"dataframe\">\n",
       "  <thead>\n",
       "    <tr style=\"text-align: right;\">\n",
       "      <th></th>\n",
       "      <th>result</th>\n",
       "      <th>shrink</th>\n",
       "      <th>similarity</th>\n",
       "      <th>topK</th>\n",
       "      <th>tversky_alpha</th>\n",
       "      <th>tversky_beta</th>\n",
       "      <th>normalize</th>\n",
       "      <th>normalize_avg_row</th>\n",
       "      <th>similarity_from_distance_mode</th>\n",
       "    </tr>\n",
       "  </thead>\n",
       "  <tbody>\n",
       "    <tr>\n",
       "      <th>0</th>\n",
       "      <td>0.095180</td>\n",
       "      <td>200.0</td>\n",
       "      <td>tversky</td>\n",
       "      <td>22.0</td>\n",
       "      <td>1.110834</td>\n",
       "      <td>1.605977</td>\n",
       "      <td>NaN</td>\n",
       "      <td>NaN</td>\n",
       "      <td>NaN</td>\n",
       "    </tr>\n",
       "    <tr>\n",
       "      <th>1</th>\n",
       "      <td>0.094812</td>\n",
       "      <td>203.0</td>\n",
       "      <td>dice</td>\n",
       "      <td>761.0</td>\n",
       "      <td>NaN</td>\n",
       "      <td>NaN</td>\n",
       "      <td>NaN</td>\n",
       "      <td>NaN</td>\n",
       "      <td>NaN</td>\n",
       "    </tr>\n",
       "    <tr>\n",
       "      <th>2</th>\n",
       "      <td>0.093075</td>\n",
       "      <td>474.0</td>\n",
       "      <td>tversky</td>\n",
       "      <td>589.0</td>\n",
       "      <td>0.705529</td>\n",
       "      <td>1.104655</td>\n",
       "      <td>NaN</td>\n",
       "      <td>NaN</td>\n",
       "      <td>NaN</td>\n",
       "    </tr>\n",
       "    <tr>\n",
       "      <th>3</th>\n",
       "      <td>0.080628</td>\n",
       "      <td>789.0</td>\n",
       "      <td>euclidean</td>\n",
       "      <td>115.0</td>\n",
       "      <td>NaN</td>\n",
       "      <td>NaN</td>\n",
       "      <td>1.0</td>\n",
       "      <td>0.0</td>\n",
       "      <td>exp</td>\n",
       "    </tr>\n",
       "    <tr>\n",
       "      <th>4</th>\n",
       "      <td>0.078318</td>\n",
       "      <td>717.0</td>\n",
       "      <td>tversky</td>\n",
       "      <td>815.0</td>\n",
       "      <td>0.124237</td>\n",
       "      <td>1.103974</td>\n",
       "      <td>NaN</td>\n",
       "      <td>NaN</td>\n",
       "      <td>NaN</td>\n",
       "    </tr>\n",
       "    <tr>\n",
       "      <th>5</th>\n",
       "      <td>0.092917</td>\n",
       "      <td>410.0</td>\n",
       "      <td>dice</td>\n",
       "      <td>963.0</td>\n",
       "      <td>NaN</td>\n",
       "      <td>NaN</td>\n",
       "      <td>NaN</td>\n",
       "      <td>NaN</td>\n",
       "      <td>NaN</td>\n",
       "    </tr>\n",
       "    <tr>\n",
       "      <th>6</th>\n",
       "      <td>0.098210</td>\n",
       "      <td>485.0</td>\n",
       "      <td>cosine</td>\n",
       "      <td>957.0</td>\n",
       "      <td>NaN</td>\n",
       "      <td>NaN</td>\n",
       "      <td>NaN</td>\n",
       "      <td>NaN</td>\n",
       "      <td>NaN</td>\n",
       "    </tr>\n",
       "    <tr>\n",
       "      <th>7</th>\n",
       "      <td>0.057692</td>\n",
       "      <td>816.0</td>\n",
       "      <td>euclidean</td>\n",
       "      <td>933.0</td>\n",
       "      <td>NaN</td>\n",
       "      <td>NaN</td>\n",
       "      <td>1.0</td>\n",
       "      <td>1.0</td>\n",
       "      <td>exp</td>\n",
       "    </tr>\n",
       "    <tr>\n",
       "      <th>8</th>\n",
       "      <td>0.102851</td>\n",
       "      <td>170.0</td>\n",
       "      <td>cosine</td>\n",
       "      <td>104.0</td>\n",
       "      <td>NaN</td>\n",
       "      <td>NaN</td>\n",
       "      <td>NaN</td>\n",
       "      <td>NaN</td>\n",
       "      <td>NaN</td>\n",
       "    </tr>\n",
       "    <tr>\n",
       "      <th>9</th>\n",
       "      <td>0.104526</td>\n",
       "      <td>179.0</td>\n",
       "      <td>cosine</td>\n",
       "      <td>213.0</td>\n",
       "      <td>NaN</td>\n",
       "      <td>NaN</td>\n",
       "      <td>NaN</td>\n",
       "      <td>NaN</td>\n",
       "      <td>NaN</td>\n",
       "    </tr>\n",
       "  </tbody>\n",
       "</table>\n",
       "</div>"
      ],
      "text/plain": [
       "     result  shrink similarity   topK  tversky_alpha  tversky_beta  normalize  \\\n",
       "0  0.095180   200.0    tversky   22.0       1.110834      1.605977        NaN   \n",
       "1  0.094812   203.0       dice  761.0            NaN           NaN        NaN   \n",
       "2  0.093075   474.0    tversky  589.0       0.705529      1.104655        NaN   \n",
       "3  0.080628   789.0  euclidean  115.0            NaN           NaN        1.0   \n",
       "4  0.078318   717.0    tversky  815.0       0.124237      1.103974        NaN   \n",
       "5  0.092917   410.0       dice  963.0            NaN           NaN        NaN   \n",
       "6  0.098210   485.0     cosine  957.0            NaN           NaN        NaN   \n",
       "7  0.057692   816.0  euclidean  933.0            NaN           NaN        1.0   \n",
       "8  0.102851   170.0     cosine  104.0            NaN           NaN        NaN   \n",
       "9  0.104526   179.0     cosine  213.0            NaN           NaN        NaN   \n",
       "\n",
       "   normalize_avg_row similarity_from_distance_mode  \n",
       "0                NaN                           NaN  \n",
       "1                NaN                           NaN  \n",
       "2                NaN                           NaN  \n",
       "3                0.0                           exp  \n",
       "4                NaN                           NaN  \n",
       "5                NaN                           NaN  \n",
       "6                NaN                           NaN  \n",
       "7                1.0                           exp  \n",
       "8                NaN                           NaN  \n",
       "9                NaN                           NaN  "
      ]
     },
     "execution_count": 13,
     "metadata": {},
     "output_type": "execute_result"
    }
   ],
   "source": [
    "save_results.results_df"
   ]
  },
  {
   "cell_type": "code",
   "execution_count": 14,
   "id": "0f0d289b",
   "metadata": {},
   "outputs": [
    {
     "data": {
      "text/plain": [
       "{'similarity': 'cosine', 'topK': 213, 'shrink': 179}"
      ]
     },
     "execution_count": 14,
     "metadata": {},
     "output_type": "execute_result"
    }
   ],
   "source": [
    "optuna_study.best_trial.params"
   ]
  },
  {
   "cell_type": "markdown",
   "id": "2427f380",
   "metadata": {},
   "source": [
    "### An example with earlystopping, for SVD++\n",
    "\n",
    "When training machine learning models that require iterative training for a certain number of epochs one also has to select this value. There are two strategies:\n",
    "* Consider the number of epochs as another hyperparameter to be determined by our optimizer\n",
    "* Fix a maximum number of epochs and periodically evaluate the model during the training process. If the recommendation quality does not improve after a certain number of epochs (20, 50 ...) stop the training and select the number of epochs that gave the best result. This is called earlystopping."
   ]
  },
  {
   "cell_type": "code",
   "execution_count": 44,
   "id": "261faf38",
   "metadata": {},
   "outputs": [],
   "source": [
    "from Recommenders.MatrixFactorization.Cython.MatrixFactorization_Cython import MatrixFactorization_SVDpp_Cython\n",
    "\n",
    "class SaveResults(object):\n",
    "    \n",
    "    def __init__(self):\n",
    "        self.results_df = pd.DataFrame()\n",
    "    \n",
    "    def __call__(self, optuna_study, optuna_trial):\n",
    "        hyperparam_dict = optuna_trial.params.copy()\n",
    "        hyperparam_dict[\"result\"] = optuna_trial.values[0]\n",
    "        \n",
    "        # Retrieve the optimal number of epochs from the \"user attributes\" of the trial\n",
    "        hyperparam_dict[\"epochs\"] = optuna_trial.user_attrs[\"epochs\"]\n",
    "        \n",
    "        self.results_df = self.results_df.append(hyperparam_dict, ignore_index=True)\n",
    "        \n",
    "        \n",
    "def objective_function_funksvd(optuna_trial):\n",
    "\n",
    "    # Earlystopping hyperparameters available in the framework\n",
    "    full_hyperp = {\"validation_every_n\": 5,\n",
    "                   \"stop_on_validation\": True,\n",
    "                   \"evaluator_object\": evaluator_validation,\n",
    "                   \"lower_validations_allowed\": 5,   # Higher values will result in a more \"patient\" earlystopping\n",
    "                   \"validation_metric\": \"MAP\",\n",
    "                   \n",
    "                   # MAX number of epochs (usually 500)\n",
    "                   \"epochs\": 500,\n",
    "                  }\n",
    "                          \n",
    "        \n",
    "    recommender_instance = MatrixFactorization_SVDpp_Cython(URM_train)\n",
    "    recommender_instance.fit(num_factors = optuna_trial.suggest_int(\"num_factors\", 1, 200),\n",
    "                             sgd_mode = optuna_trial.suggest_categorical(\"sgd_mode\", [\"sgd\", \"adagrad\", \"adam\"]),\n",
    "                             batch_size = optuna_trial.suggest_categorical(\"batch_size\", [1, 2, 4, 8, 16, 32, 64, 128, 256, 512, 1024]),\n",
    "                             item_reg = optuna_trial.suggest_float(\"item_reg\", 1e-5, 1e-2, log=True),\n",
    "                             user_reg =  optuna_trial.suggest_float(\"user_reg\", 1e-5, 1e-2, log=True),\n",
    "                             learning_rate = optuna_trial.suggest_float(\"learning_rate\", 1e-4, 1e-1, log=True),\n",
    "                             ** full_hyperp)\n",
    "    \n",
    "    # Add the number of epochs selected by earlystopping as a \"user attribute\" of the optuna trial\n",
    "    epochs = recommender_instance.get_early_stopping_final_epochs_dict()[\"epochs\"]\n",
    "    optuna_trial.set_user_attr(\"epochs\", epochs) \n",
    "        \n",
    "    result_df, _ = evaluator_validation.evaluateRecommender(recommender_instance)\n",
    "    \n",
    "    return result_df.loc[10][\"MAP\"]"
   ]
  },
  {
   "cell_type": "code",
   "execution_count": 43,
   "id": "d8296273",
   "metadata": {},
   "outputs": [
    {
     "name": "stderr",
     "output_type": "stream",
     "text": [
      "[I 2023-11-22 22:48:09,767] A new study created in memory with name: no-name-4145021a-2bd2-4dac-8650-6506bbf820bf\n"
     ]
    },
    {
     "name": "stdout",
     "output_type": "stream",
     "text": [
      "MatrixFactorization_SVDpp_Cython_Recommender: URM Detected 230 ( 5.9%) items with no interactions.\n",
      "SVD++: Processed 640256 (100.0%) in 16.88 sec. MSE loss 1.45E+01. Sample per second: 37922\n",
      "SVD++: Epoch 1 of 2. Elapsed time 16.04 sec\n",
      "SVD++: Processed 640256 (100.0%) in 16.96 sec. MSE loss 1.41E+01. Sample per second: 37749\n",
      "SVD++: Epoch 2 of 2. Elapsed time 32.12 sec\n",
      "SVD++: Terminating at epoch 2. Elapsed time 32.12 sec\n",
      "EvaluatorHoldout: Processed 6024 (100.0%) in 3.33 sec. Users per second: 1808\n"
     ]
    },
    {
     "name": "stderr",
     "output_type": "stream",
     "text": [
      "[I 2023-11-22 22:48:45,308] Trial 0 finished with value: 0.002186887371150318 and parameters: {'num_factors': 147, 'sgd_mode': 'adagrad', 'batch_size': 128, 'item_reg': 7.29063316872942e-05, 'user_reg': 0.0005238842020210994, 'learning_rate': 0.00045976338958413803}. Best is trial 0 with value: 0.002186887371150318.\n"
     ]
    },
    {
     "name": "stdout",
     "output_type": "stream",
     "text": [
      "MatrixFactorization_SVDpp_Cython_Recommender: URM Detected 230 ( 5.9%) items with no interactions.\n",
      "SVD++: Processed 640256 (100.0%) in 2.63 sec. MSE loss 1.63E+00. Sample per second: 243803\n",
      "SVD++: Epoch 1 of 2. Elapsed time 2.28 sec\n",
      "SVD++: Processed 640256 (100.0%) in 2.93 sec. MSE loss 7.43E-01. Sample per second: 218731\n",
      "SVD++: Epoch 2 of 2. Elapsed time 4.58 sec\n",
      "SVD++: Terminating at epoch 2. Elapsed time 4.58 sec\n",
      "EvaluatorHoldout: Processed 6024 (100.0%) in 3.22 sec. Users per second: 1870\n"
     ]
    },
    {
     "name": "stderr",
     "output_type": "stream",
     "text": [
      "[I 2023-11-22 22:48:53,163] Trial 1 finished with value: 0.002453150361516894 and parameters: {'num_factors': 19, 'sgd_mode': 'adagrad', 'batch_size': 128, 'item_reg': 0.0005867918689560966, 'user_reg': 0.0012967358663248814, 'learning_rate': 0.043988020410102274}. Best is trial 1 with value: 0.002453150361516894.\n"
     ]
    }
   ],
   "source": [
    "optuna_study = optuna.create_study(direction=\"maximize\")\n",
    "        \n",
    "save_results = SaveResults()\n",
    "        \n",
    "optuna_study.optimize(objective_function_funksvd,\n",
    "                      callbacks=[save_results],\n",
    "                      n_trials = 10)"
   ]
  },
  {
   "cell_type": "code",
   "execution_count": 45,
   "id": "c501b12e",
   "metadata": {},
   "outputs": [
    {
     "data": {
      "text/plain": [
       "{'num_factors': 19,\n",
       " 'sgd_mode': 'adagrad',\n",
       " 'batch_size': 128,\n",
       " 'item_reg': 0.0005867918689560966,\n",
       " 'user_reg': 0.0012967358663248814,\n",
       " 'learning_rate': 0.043988020410102274}"
      ]
     },
     "execution_count": 45,
     "metadata": {},
     "output_type": "execute_result"
    }
   ],
   "source": [
    "optuna_study.best_trial.params"
   ]
  },
  {
   "cell_type": "code",
   "execution_count": 46,
   "id": "e606476a",
   "metadata": {},
   "outputs": [
    {
     "data": {
      "text/plain": [
       "FrozenTrial(number=1, state=TrialState.COMPLETE, values=[0.002453150361516894], datetime_start=datetime.datetime(2023, 11, 22, 22, 48, 45, 315537), datetime_complete=datetime.datetime(2023, 11, 22, 22, 48, 53, 162309), params={'num_factors': 19, 'sgd_mode': 'adagrad', 'batch_size': 128, 'item_reg': 0.0005867918689560966, 'user_reg': 0.0012967358663248814, 'learning_rate': 0.043988020410102274}, user_attrs={'epochs': 0}, system_attrs={}, intermediate_values={}, distributions={'num_factors': IntDistribution(high=200, log=False, low=1, step=1), 'sgd_mode': CategoricalDistribution(choices=('sgd', 'adagrad', 'adam')), 'batch_size': CategoricalDistribution(choices=(1, 2, 4, 8, 16, 32, 64, 128, 256, 512, 1024)), 'item_reg': FloatDistribution(high=0.01, log=True, low=1e-05, step=None), 'user_reg': FloatDistribution(high=0.01, log=True, low=1e-05, step=None), 'learning_rate': FloatDistribution(high=0.1, log=True, low=0.0001, step=None)}, trial_id=1, value=None)"
      ]
     },
     "execution_count": 46,
     "metadata": {},
     "output_type": "execute_result"
    }
   ],
   "source": [
    "optuna_study.best_trial"
   ]
  },
  {
   "cell_type": "code",
   "execution_count": 47,
   "id": "17997349",
   "metadata": {},
   "outputs": [
    {
     "data": {
      "text/html": [
       "<div>\n",
       "<style scoped>\n",
       "    .dataframe tbody tr th:only-of-type {\n",
       "        vertical-align: middle;\n",
       "    }\n",
       "\n",
       "    .dataframe tbody tr th {\n",
       "        vertical-align: top;\n",
       "    }\n",
       "\n",
       "    .dataframe thead th {\n",
       "        text-align: right;\n",
       "    }\n",
       "</style>\n",
       "<table border=\"1\" class=\"dataframe\">\n",
       "  <thead>\n",
       "    <tr style=\"text-align: right;\">\n",
       "      <th></th>\n",
       "      <th>batch_size</th>\n",
       "      <th>epochs</th>\n",
       "      <th>item_reg</th>\n",
       "      <th>learning_rate</th>\n",
       "      <th>num_factors</th>\n",
       "      <th>result</th>\n",
       "      <th>sgd_mode</th>\n",
       "      <th>user_reg</th>\n",
       "    </tr>\n",
       "  </thead>\n",
       "  <tbody>\n",
       "    <tr>\n",
       "      <th>0</th>\n",
       "      <td>128.0</td>\n",
       "      <td>0.0</td>\n",
       "      <td>0.000073</td>\n",
       "      <td>0.000460</td>\n",
       "      <td>147.0</td>\n",
       "      <td>0.002187</td>\n",
       "      <td>adagrad</td>\n",
       "      <td>0.000524</td>\n",
       "    </tr>\n",
       "    <tr>\n",
       "      <th>1</th>\n",
       "      <td>128.0</td>\n",
       "      <td>0.0</td>\n",
       "      <td>0.000587</td>\n",
       "      <td>0.043988</td>\n",
       "      <td>19.0</td>\n",
       "      <td>0.002453</td>\n",
       "      <td>adagrad</td>\n",
       "      <td>0.001297</td>\n",
       "    </tr>\n",
       "  </tbody>\n",
       "</table>\n",
       "</div>"
      ],
      "text/plain": [
       "   batch_size  epochs  item_reg  learning_rate  num_factors    result  \\\n",
       "0       128.0     0.0  0.000073       0.000460        147.0  0.002187   \n",
       "1       128.0     0.0  0.000587       0.043988         19.0  0.002453   \n",
       "\n",
       "  sgd_mode  user_reg  \n",
       "0  adagrad  0.000524  \n",
       "1  adagrad  0.001297  "
      ]
     },
     "execution_count": 47,
     "metadata": {},
     "output_type": "execute_result"
    }
   ],
   "source": [
    "save_results.results_df"
   ]
  },
  {
   "cell_type": "code",
   "execution_count": 37,
   "id": "faffa9ed",
   "metadata": {},
   "outputs": [],
   "source": []
  },
  {
   "cell_type": "code",
   "execution_count": null,
   "id": "a39e0277",
   "metadata": {},
   "outputs": [],
   "source": []
  }
 ],
 "metadata": {
  "kernelspec": {
   "display_name": "Python 3 (ipykernel)",
   "language": "python",
   "name": "python3"
  },
  "language_info": {
   "codemirror_mode": {
    "name": "ipython",
    "version": 3
   },
   "file_extension": ".py",
   "mimetype": "text/x-python",
   "name": "python",
   "nbconvert_exporter": "python",
   "pygments_lexer": "ipython3",
   "version": "3.8.12"
  }
 },
 "nbformat": 4,
 "nbformat_minor": 5
}
